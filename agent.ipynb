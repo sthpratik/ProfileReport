{
 "cells": [
  {
   "cell_type": "code",
   "execution_count": null,
   "id": "13693986",
   "metadata": {},
   "outputs": [
    {
     "name": "stdout",
     "output_type": "stream",
     "text": [
      "Index(['Unnamed: 0', 'Age', 'Sex', 'Ethnicity', 'BMI', 'Waist_Circumference',\n",
      "       'Fasting_Blood_Glucose', 'HbA1c', 'Blood_Pressure_Systolic',\n",
      "       'Blood_Pressure_Diastolic', 'Cholesterol_Total', 'Cholesterol_HDL',\n",
      "       'Cholesterol_LDL', 'GGT', 'Serum_Urate', 'Physical_Activity_Level',\n",
      "       'Dietary_Intake_Calories', 'Alcohol_Consumption', 'Smoking_Status',\n",
      "       'Family_History_of_Diabetes', 'Previous_Gestational_Diabetes'],\n",
      "      dtype='object')\n",
      "Number of males with heavy alcohol consumption and BMI > 25: 1198\n",
      "Number of females with heavy alcohol consumption and BMI > 25: 0\n"
     ]
    },
    {
     "ename": "NameError",
     "evalue": "name 'final_answer' is not defined",
     "output_type": "error",
     "traceback": [
      "\u001b[31m---------------------------------------------------------------------------\u001b[39m",
      "\u001b[31mNameError\u001b[39m                                 Traceback (most recent call last)",
      "\u001b[36mCell\u001b[39m\u001b[36m \u001b[39m\u001b[32mIn[2]\u001b[39m\u001b[32m, line 20\u001b[39m\n\u001b[32m     17\u001b[39m \u001b[38;5;28mprint\u001b[39m(\u001b[33mf\u001b[39m\u001b[33m\"\u001b[39m\u001b[33mNumber of females with heavy alcohol consumption and BMI > 25: \u001b[39m\u001b[38;5;132;01m{\u001b[39;00mcount_female_heavy_alcohol_bmi_gt_25\u001b[38;5;132;01m}\u001b[39;00m\u001b[33m\"\u001b[39m)                           \n\u001b[32m     19\u001b[39m \u001b[38;5;66;03m# Prepare the final answer                                                                                                                \u001b[39;00m\n\u001b[32m---> \u001b[39m\u001b[32m20\u001b[39m \u001b[43mfinal_answer\u001b[49m({                                                                                                                            \n\u001b[32m     21\u001b[39m     \u001b[33m\"\u001b[39m\u001b[33mmale\u001b[39m\u001b[33m\"\u001b[39m: count_male_heavy_alcohol_bmi_gt_25,                                                                                           \n\u001b[32m     22\u001b[39m     \u001b[33m\"\u001b[39m\u001b[33mfemale\u001b[39m\u001b[33m\"\u001b[39m: count_female_heavy_alcohol_bmi_gt_25                                                                                        \n\u001b[32m     23\u001b[39m }) \n",
      "\u001b[31mNameError\u001b[39m: name 'final_answer' is not defined"
     ]
    }
   ],
   "source": [
    "import pandas as pd                                                                                                                       \n",
    "                                                                                                                                            \n",
    "# Load the dataset                                                                                                                        \n",
    "df = pd.read_csv('diabetes_dataset.csv')                                                                                                  \n",
    "                                                                                                                                        \n",
    "# Print the column names to identify the correct column for alcohol consumption                                                           \n",
    "print(df.columns)                                                                                                                         \n",
    "                                                                                                                                        \n",
    "# Assuming the correct column name is 'Alcohol_Consumption', let's retry the filtering                                                    \n",
    "filtered_df = df[(df['Sex'] == 'Male') & (df['Alcohol_Consumption'] == 'Heavy') & (df['BMI'] > 25)]                                       \n",
    "                                                                                                                                        \n",
    "# Count the number of rows that meet the conditions                                                                                       \n",
    "count_male_heavy_alcohol_bmi_gt_25 = len(filtered_df[filtered_df['Sex'] == 'Male'])                                                       \n",
    "count_female_heavy_alcohol_bmi_gt_25 = len(filtered_df[filtered_df['Sex'] == 'Female'])                                                   \n",
    "                                                                                                                                        \n",
    "print(f\"Number of males with heavy alcohol consumption and BMI > 25: {count_male_heavy_alcohol_bmi_gt_25}\")                               \n",
    "print(f\"Number of females with heavy alcohol consumption and BMI > 25: {count_female_heavy_alcohol_bmi_gt_25}\")                           \n",
    "                                                                                                                                        \n",
    "# # Prepare the final answer                                                                                                                \n",
    "# final_answer({                                                                                                                            \n",
    "#     \"male\": count_male_heavy_alcohol_bmi_gt_25,                                                                                           \n",
    "#     \"female\": count_female_heavy_alcohol_bmi_gt_25                                                                                        \n",
    "# }) "
   ]
  }
 ],
 "metadata": {
  "kernelspec": {
   "display_name": ".venv",
   "language": "python",
   "name": "python3"
  },
  "language_info": {
   "codemirror_mode": {
    "name": "ipython",
    "version": 3
   },
   "file_extension": ".py",
   "mimetype": "text/x-python",
   "name": "python",
   "nbconvert_exporter": "python",
   "pygments_lexer": "ipython3",
   "version": "3.11.5"
  }
 },
 "nbformat": 4,
 "nbformat_minor": 5
}
